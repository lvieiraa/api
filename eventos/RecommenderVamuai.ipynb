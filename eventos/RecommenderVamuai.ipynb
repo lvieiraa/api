{
 "cells": [
  {
   "cell_type": "code",
   "execution_count": 1,
   "metadata": {},
   "outputs": [
    {
     "data": {
      "text/plain": [
       "u'0.20.3'"
      ]
     },
     "execution_count": 1,
     "metadata": {},
     "output_type": "execute_result"
    }
   ],
   "source": [
    "import pandas as pd\n",
    "import numpy as np\n",
    "from sklearn.neighbors import NearestNeighbors\n",
    "import matplotlib.pyplot as plt\n",
    "pd.__version__"
   ]
  },
  {
   "cell_type": "code",
   "execution_count": 2,
   "metadata": {},
   "outputs": [
    {
     "data": {
      "text/html": [
       "<div>\n",
       "<style>\n",
       "    .dataframe thead tr:only-child th {\n",
       "        text-align: right;\n",
       "    }\n",
       "\n",
       "    .dataframe thead th {\n",
       "        text-align: left;\n",
       "    }\n",
       "\n",
       "    .dataframe tbody tr th {\n",
       "        vertical-align: top;\n",
       "    }\n",
       "</style>\n",
       "<table border=\"1\" class=\"dataframe\">\n",
       "  <thead>\n",
       "    <tr style=\"text-align: right;\">\n",
       "      <th></th>\n",
       "      <th>1000323116647908 105903586735618 1501898400</th>\n",
       "    </tr>\n",
       "  </thead>\n",
       "  <tbody>\n",
       "    <tr>\n",
       "      <th>0</th>\n",
       "      <td>1000323116647908 107068889960595 1501434000</td>\n",
       "    </tr>\n",
       "    <tr>\n",
       "      <th>1</th>\n",
       "      <td>1000323116647908 1168730829939703 1501981200</td>\n",
       "    </tr>\n",
       "    <tr>\n",
       "      <th>2</th>\n",
       "      <td>1000323116647908 1185044994950557 1489798800</td>\n",
       "    </tr>\n",
       "    <tr>\n",
       "      <th>3</th>\n",
       "      <td>1000323116647908 128965984369272 1501286400</td>\n",
       "    </tr>\n",
       "    <tr>\n",
       "      <th>4</th>\n",
       "      <td>1000323116647908 1388588684544267 1502758800</td>\n",
       "    </tr>\n",
       "  </tbody>\n",
       "</table>\n",
       "</div>"
      ],
      "text/plain": [
       "    1000323116647908 105903586735618 1501898400\n",
       "0   1000323116647908 107068889960595 1501434000\n",
       "1  1000323116647908 1168730829939703 1501981200\n",
       "2  1000323116647908 1185044994950557 1489798800\n",
       "3   1000323116647908 128965984369272 1501286400\n",
       "4  1000323116647908 1388588684544267 1502758800"
      ]
     },
     "execution_count": 2,
     "metadata": {},
     "output_type": "execute_result"
    }
   ],
   "source": [
    "corpus=pd.read_csv(\"CorpusMais5\")\n",
    "corpus.head()"
   ]
  },
  {
   "cell_type": "code",
   "execution_count": 3,
   "metadata": {},
   "outputs": [
    {
     "data": {
      "text/html": [
       "<div>\n",
       "<style>\n",
       "    .dataframe thead tr:only-child th {\n",
       "        text-align: right;\n",
       "    }\n",
       "\n",
       "    .dataframe thead th {\n",
       "        text-align: left;\n",
       "    }\n",
       "\n",
       "    .dataframe tbody tr th {\n",
       "        vertical-align: top;\n",
       "    }\n",
       "</style>\n",
       "<table border=\"1\" class=\"dataframe\">\n",
       "  <thead>\n",
       "    <tr style=\"text-align: right;\">\n",
       "      <th></th>\n",
       "      <th>1000323116647908 105903586735618 1501898400</th>\n",
       "    </tr>\n",
       "  </thead>\n",
       "  <tbody>\n",
       "    <tr>\n",
       "      <th>0</th>\n",
       "      <td>1000323116647908 107068889960595 1501434000</td>\n",
       "    </tr>\n",
       "    <tr>\n",
       "      <th>1</th>\n",
       "      <td>1000323116647908 1168730829939703 1501981200</td>\n",
       "    </tr>\n",
       "    <tr>\n",
       "      <th>2</th>\n",
       "      <td>1000323116647908 1185044994950557 1489798800</td>\n",
       "    </tr>\n",
       "    <tr>\n",
       "      <th>3</th>\n",
       "      <td>1000323116647908 128965984369272 1501286400</td>\n",
       "    </tr>\n",
       "    <tr>\n",
       "      <th>4</th>\n",
       "      <td>1000323116647908 1388588684544267 1502758800</td>\n",
       "    </tr>\n",
       "  </tbody>\n",
       "</table>\n",
       "</div>"
      ],
      "text/plain": [
       "    1000323116647908 105903586735618 1501898400\n",
       "0   1000323116647908 107068889960595 1501434000\n",
       "1  1000323116647908 1168730829939703 1501981200\n",
       "2  1000323116647908 1185044994950557 1489798800\n",
       "3   1000323116647908 128965984369272 1501286400\n",
       "4  1000323116647908 1388588684544267 1502758800"
      ]
     },
     "execution_count": 3,
     "metadata": {},
     "output_type": "execute_result"
    }
   ],
   "source": [
    "CorpusMais5_02_17=pd.read_csv(\"CorpusMais5_02_17\")\n",
    "corpus.head()"
   ]
  },
  {
   "cell_type": "code",
   "execution_count": 4,
   "metadata": {},
   "outputs": [
    {
     "data": {
      "text/html": [
       "<div>\n",
       "<style>\n",
       "    .dataframe thead tr:only-child th {\n",
       "        text-align: right;\n",
       "    }\n",
       "\n",
       "    .dataframe thead th {\n",
       "        text-align: left;\n",
       "    }\n",
       "\n",
       "    .dataframe tbody tr th {\n",
       "        vertical-align: top;\n",
       "    }\n",
       "</style>\n",
       "<table border=\"1\" class=\"dataframe\">\n",
       "  <thead>\n",
       "    <tr style=\"text-align: right;\">\n",
       "      <th></th>\n",
       "      <th>1000323116647908 105903586735618 1501898400</th>\n",
       "    </tr>\n",
       "  </thead>\n",
       "  <tbody>\n",
       "    <tr>\n",
       "      <th>0</th>\n",
       "      <td>1000323116647908 107068889960595 1501434000</td>\n",
       "    </tr>\n",
       "    <tr>\n",
       "      <th>1</th>\n",
       "      <td>1000323116647908 1168730829939703 1501981200</td>\n",
       "    </tr>\n",
       "    <tr>\n",
       "      <th>2</th>\n",
       "      <td>1000323116647908 1185044994950557 1489798800</td>\n",
       "    </tr>\n",
       "    <tr>\n",
       "      <th>3</th>\n",
       "      <td>1000323116647908 128965984369272 1501286400</td>\n",
       "    </tr>\n",
       "    <tr>\n",
       "      <th>4</th>\n",
       "      <td>1000323116647908 1388588684544267 1502758800</td>\n",
       "    </tr>\n",
       "  </tbody>\n",
       "</table>\n",
       "</div>"
      ],
      "text/plain": [
       "    1000323116647908 105903586735618 1501898400\n",
       "0   1000323116647908 107068889960595 1501434000\n",
       "1  1000323116647908 1168730829939703 1501981200\n",
       "2  1000323116647908 1185044994950557 1489798800\n",
       "3   1000323116647908 128965984369272 1501286400\n",
       "4  1000323116647908 1388588684544267 1502758800"
      ]
     },
     "execution_count": 4,
     "metadata": {},
     "output_type": "execute_result"
    }
   ],
   "source": [
    "CorpusMais5_07_17=pd.read_csv(\"CorpusMais5_07_17\")\n",
    "corpus.head()"
   ]
  },
  {
   "cell_type": "code",
   "execution_count": 5,
   "metadata": {},
   "outputs": [],
   "source": [
    "from __future__ import (absolute_import, division, print_function,             \n",
    "                        unicode_literals)    \n",
    "import pickle\n",
    "\n",
    "from surprise import SVD, NormalPredictor, BaselineOnly, KNNBasic, KNNWithMeans, KNNBaseline, NMF\n",
    "from surprise import Reader, Dataset\n",
    "from surprise import evaluate, print_perf\n",
    "import os\n",
    "from surprise import dump\n",
    "from surprise.accuracy import rmse, fcp"
   ]
  },
  {
   "cell_type": "code",
   "execution_count": null,
   "metadata": {},
   "outputs": [],
   "source": [
    "file_path = os.path.expanduser('~/Documents/Vamuai/recomendador2/code/')\n",
    "\n",
    "reader = Reader(line_format='user item rating timestamp', sep=',')\n",
    "\n",
    "\n",
    "train_file = file_path + 'treino'\n",
    "test_file = file_path + 'teste'\n",
    "\n",
    "data = Dataset.load_from_folds([(train_file, test_file)], reader)\n",
    "algo = BaselineOnly()                                                       \n",
    "\n",
    "for trainset, testset in data.folds(): \n",
    "    algo.train(trainset)                             \n",
    "    predictions = algo.test(testset)\n",
    "    fcp(predictions)\n",
    "                                                                               \n",
    "    dump.dump('./dump_file', predictions, algo)\n",
    "   "
   ]
  }
 ],
 "metadata": {
  "kernelspec": {
   "display_name": "Python 2",
   "language": "python",
   "name": "python2"
  },
  "language_info": {
   "codemirror_mode": {
    "name": "ipython",
    "version": 2
   },
   "file_extension": ".py",
   "mimetype": "text/x-python",
   "name": "python",
   "nbconvert_exporter": "python",
   "pygments_lexer": "ipython2",
   "version": "2.7.10"
  }
 },
 "nbformat": 4,
 "nbformat_minor": 2
}
